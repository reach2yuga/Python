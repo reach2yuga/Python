{
 "cells": [
  {
   "cell_type": "code",
   "execution_count": 4,
   "id": "f127c7b9-b664-433c-aa3d-8d43bf469d52",
   "metadata": {},
   "outputs": [
    {
     "data": {
      "text/plain": [
       "[1, 2, 3, 4, 5]"
      ]
     },
     "execution_count": 4,
     "metadata": {},
     "output_type": "execute_result"
    }
   ],
   "source": [
    "# How to create list\n",
    "a =[1,2,3,4,5]\n",
    "a"
   ]
  },
  {
   "cell_type": "code",
   "execution_count": 6,
   "id": "df24a070-ece0-4847-8565-663726202bce",
   "metadata": {},
   "outputs": [
    {
     "data": {
      "text/plain": [
       "4"
      ]
     },
     "execution_count": 6,
     "metadata": {},
     "output_type": "execute_result"
    }
   ],
   "source": [
    "#access 3rd element in the list\n",
    "a[3]"
   ]
  },
  {
   "cell_type": "code",
   "execution_count": 8,
   "id": "b80a5e74-7028-4826-8b47-ae93b223740a",
   "metadata": {},
   "outputs": [
    {
     "data": {
      "text/plain": [
       "[1, 2, 3, 66, 5]"
      ]
     },
     "execution_count": 8,
     "metadata": {},
     "output_type": "execute_result"
    }
   ],
   "source": [
    "#change value of element in 3rd position to 66\n",
    "a[3] = 66\n",
    "a"
   ]
  },
  {
   "cell_type": "code",
   "execution_count": 9,
   "id": "caa0124c-8774-4640-ac73-79aaa4bd7be8",
   "metadata": {},
   "outputs": [
    {
     "data": {
      "text/plain": [
       "[1, 2, 3, 66, 5, 77]"
      ]
     },
     "execution_count": 9,
     "metadata": {},
     "output_type": "execute_result"
    }
   ],
   "source": [
    "#add elements in the list\n",
    "a.append(77)\n",
    "a"
   ]
  },
  {
   "cell_type": "code",
   "execution_count": 10,
   "id": "3eceee18-8c64-4e89-b887-f07e00ed76a7",
   "metadata": {},
   "outputs": [
    {
     "data": {
      "text/plain": [
       "[1, 2, 10, 66, 5, 77]"
      ]
     },
     "execution_count": 10,
     "metadata": {},
     "output_type": "execute_result"
    }
   ],
   "source": [
    "#add elements in list at 2nd position\n",
    "a[2]=10\n",
    "a"
   ]
  },
  {
   "cell_type": "code",
   "execution_count": 27,
   "id": "d298a686-67d6-498e-89ca-cdf94212acbc",
   "metadata": {},
   "outputs": [
    {
     "name": "stdout",
     "output_type": "stream",
     "text": [
      "5\n",
      "4\n",
      "3\n",
      "2\n",
      "1\n"
     ]
    }
   ],
   "source": [
    "list1 = [1, 2, 3, 4, 5]\n",
    "final_list = []\n",
    "\n",
    "def reverse_str(input_list):\n",
    "    # Loop through the list in reverse order\n",
    "    for i in range(len(input_list) - 1, -1, -1):  # Correct range for reverse iteration\n",
    "        final_list.append(input_list[i])  # Append the element to final_list\n",
    "        print(final_list[-1])  # Print the last element in final_list (most recent append)\n",
    "\n",
    "reverse_str(list1)\n"
   ]
  },
  {
   "cell_type": "code",
   "execution_count": null,
   "id": "b6d2faee-746e-4096-9997-d82d40040d64",
   "metadata": {},
   "outputs": [],
   "source": []
  }
 ],
 "metadata": {
  "kernelspec": {
   "display_name": "Python 3 (ipykernel)",
   "language": "python",
   "name": "python3"
  },
  "language_info": {
   "codemirror_mode": {
    "name": "ipython",
    "version": 3
   },
   "file_extension": ".py",
   "mimetype": "text/x-python",
   "name": "python",
   "nbconvert_exporter": "python",
   "pygments_lexer": "ipython3",
   "version": "3.12.1"
  }
 },
 "nbformat": 4,
 "nbformat_minor": 5
}
