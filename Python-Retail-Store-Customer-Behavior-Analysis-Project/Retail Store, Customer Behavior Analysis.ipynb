{
 "cells": [
  {
   "cell_type": "markdown",
   "metadata": {
    "application/vnd.databricks.v1+cell": {
     "cellMetadata": {
      "byteLimit": 2048000,
      "rowLimit": 10000
     },
     "inputWidgets": {},
     "nuid": "df703dc6-433b-4f79-a27d-ece9db58e781",
     "showTitle": false,
     "tableResultSettingsMap": {},
     "title": ""
    }
   },
   "source": [
    "# 1. Library"
   ]
  },
  {
   "cell_type": "code",
   "execution_count": 0,
   "metadata": {
    "application/vnd.databricks.v1+cell": {
     "cellMetadata": {
      "byteLimit": 2048000,
      "rowLimit": 10000
     },
     "inputWidgets": {},
     "nuid": "dc275c70-cf41-4614-8aed-87290728b001",
     "showTitle": false,
     "tableResultSettingsMap": {},
     "title": ""
    }
   },
   "outputs": [],
   "source": [
    "!pip install xplotter --upgrade"
   ]
  },
  {
   "cell_type": "code",
   "execution_count": 0,
   "metadata": {
    "application/vnd.databricks.v1+cell": {
     "cellMetadata": {
      "byteLimit": 2048000,
      "rowLimit": 10000
     },
     "inputWidgets": {},
     "nuid": "3508dcfd-eee7-4866-9239-811ff3935248",
     "showTitle": false,
     "tableResultSettingsMap": {},
     "title": ""
    }
   },
   "outputs": [],
   "source": [
    "# Libraries\n",
    "import pandas as pd\n",
    "import numpy as np\n",
    "from warnings import filterwarnings\n",
    "filterwarnings('ignore')\n",
    "\n",
    "# Visualization Libraries\n",
    "import matplotlib.pyplot as plt\n",
    "%matplotlib inline\n",
    "import seaborn as sns\n",
    "from matplotlib.gridspec import GridSpec\n",
    "from mpl_toolkits.axes_grid.inset_locator import InsetPosition\n",
    "\n",
    "# Xplotter\n",
    "from xplotter.insights import *\n",
    "from xplotter.formatter import format_spines"
   ]
  },
  {
   "cell_type": "code",
   "execution_count": 0,
   "metadata": {
    "application/vnd.databricks.v1+cell": {
     "cellMetadata": {
      "byteLimit": 2048000,
      "rowLimit": 10000
     },
     "inputWidgets": {},
     "nuid": "9c86f35a-f2c8-4bdb-aa70-0830265c8bae",
     "showTitle": false,
     "tableResultSettingsMap": {},
     "title": ""
    }
   },
   "outputs": [],
   "source": [
    "def single_countplot(df, ax, x=None, y=None, top=None, order=True, hue=False, palette='plasma',\n",
    "                     width=0.75, sub_width=0.3, sub_size=12):\n",
    "    ncount = len(df)\n",
    "    if x:\n",
    "        col = x\n",
    "    else:\n",
    "        col = y\n",
    "\n",
    "    if top is not None:\n",
    "        cat_count = df[col].value_counts()\n",
    "        top_categories = cat_count[:top].index\n",
    "        df = df[df[col].isin(top_categories)]\n",
    "\n",
    "    if hue != False:\n",
    "        if order:\n",
    "            sns.countplot(x=x, y=y, data=df, palette=palette, ax=ax, order=df[col].value_counts().index, hue=hue)\n",
    "        else:\n",
    "            sns.countplot(x=x, y=y, data=df, palette=palette, ax=ax, hue=hue)\n",
    "    else:\n",
    "        if order:\n",
    "            sns.countplot(x=x, y=y, data=df, palette=palette, ax=ax, order=df[col].value_counts().index)\n",
    "        else:\n",
    "            sns.countplot(x=x, y=y, data=df, palette=palette, ax=ax)\n",
    "\n",
    "    format_spines(ax, right_border=False)\n",
    "\n",
    "    if x:\n",
    "        for p in ax.patches:\n",
    "            x = p.get_bbox().get_points()[:, 0]\n",
    "            y = p.get_bbox().get_points()[1, 1]\n",
    "            ax.annotate('{}\\n{:.1f}%'.format(int(y), 100. * y / ncount), (x.mean(), y), ha='center', va='bottom')\n",
    "    else:\n",
    "        for p in ax.patches:\n",
    "            x = p.get_bbox().get_points()[1, 0]\n",
    "            y = p.get_bbox().get_points()[:, 1]\n",
    "            ax.annotate('{} ({:.1f}%)'.format(int(x), 100. * x / ncount), (x, y.mean()), va='center')"
   ]
  },
  {
   "cell_type": "markdown",
   "metadata": {
    "application/vnd.databricks.v1+cell": {
     "cellMetadata": {
      "byteLimit": 2048000,
      "rowLimit": 10000
     },
     "inputWidgets": {},
     "nuid": "a69926c9-0cc6-473c-87de-3541751b5f9f",
     "showTitle": false,
     "tableResultSettingsMap": {},
     "title": ""
    }
   },
   "source": [
    "# 2. Reading and Exploring the Data"
   ]
  },
  {
   "cell_type": "code",
   "execution_count": 0,
   "metadata": {
    "application/vnd.databricks.v1+cell": {
     "cellMetadata": {
      "byteLimit": 2048000,
      "rowLimit": 10000
     },
     "inputWidgets": {},
     "nuid": "76fa1467-d5a7-4519-b5cf-4c4af136091a",
     "showTitle": false,
     "tableResultSettingsMap": {},
     "title": ""
    }
   },
   "outputs": [],
   "source": [
    "df = pd.read_csv('/Users/irischen/Documents/Retail Analytics Project/Sample - Superstore.csv',encoding='latin1')\n",
    "df.head()"
   ]
  },
  {
   "cell_type": "code",
   "execution_count": 0,
   "metadata": {
    "application/vnd.databricks.v1+cell": {
     "cellMetadata": {
      "byteLimit": 2048000,
      "rowLimit": 10000
     },
     "inputWidgets": {},
     "nuid": "111f29fb-3fb4-4446-8e2f-9b02557f080d",
     "showTitle": false,
     "tableResultSettingsMap": {},
     "title": ""
    }
   },
   "outputs": [],
   "source": [
    "df.info()"
   ]
  },
  {
   "cell_type": "markdown",
   "metadata": {
    "application/vnd.databricks.v1+cell": {
     "cellMetadata": {
      "byteLimit": 2048000,
      "rowLimit": 10000
     },
     "inputWidgets": {},
     "nuid": "9cb4f68f-2eee-4393-a507-eaa751cb8bb5",
     "showTitle": false,
     "tableResultSettingsMap": {},
     "title": ""
    }
   },
   "source": [
    "no missing value"
   ]
  },
  {
   "cell_type": "code",
   "execution_count": 0,
   "metadata": {
    "application/vnd.databricks.v1+cell": {
     "cellMetadata": {
      "byteLimit": 2048000,
      "rowLimit": 10000
     },
     "inputWidgets": {},
     "nuid": "39cbafae-8545-4b77-b147-efd27b057a8c",
     "showTitle": false,
     "tableResultSettingsMap": {},
     "title": ""
    },
    "scrolled": true
   },
   "outputs": [],
   "source": [
    "df.describe()"
   ]
  },
  {
   "cell_type": "markdown",
   "metadata": {
    "application/vnd.databricks.v1+cell": {
     "cellMetadata": {
      "byteLimit": 2048000,
      "rowLimit": 10000
     },
     "inputWidgets": {},
     "nuid": "401443f5-c4f1-4ebb-8a04-09875b8f42b9",
     "showTitle": false,
     "tableResultSettingsMap": {},
     "title": ""
    }
   },
   "source": [
    "numerical value: postal code, sales, quantity, discount, profit"
   ]
  },
  {
   "cell_type": "markdown",
   "metadata": {
    "application/vnd.databricks.v1+cell": {
     "cellMetadata": {
      "byteLimit": 2048000,
      "rowLimit": 10000
     },
     "inputWidgets": {},
     "nuid": "ce173b86-6426-4949-87aa-00dee62cf0e7",
     "showTitle": false,
     "tableResultSettingsMap": {},
     "title": ""
    }
   },
   "source": [
    "# 3. Exploratory Data Analysis"
   ]
  },
  {
   "cell_type": "markdown",
   "metadata": {
    "application/vnd.databricks.v1+cell": {
     "cellMetadata": {
      "byteLimit": 2048000,
      "rowLimit": 10000
     },
     "inputWidgets": {},
     "nuid": "818693a9-9b08-458a-8cd2-fbe997a6ea21",
     "showTitle": false,
     "tableResultSettingsMap": {},
     "title": ""
    }
   },
   "source": [
    "After making sure the dataset is ready to go, we can go on to do exploratory data analysis and get the insights from the Superstore dataset. The objective here is to perform a deep dive analysis on columns we have to understand the customer behaviour such as order date by week/month, customer's type (which segment do they mainly belong to), which category of the product is the most popular choice, and also the customer's product preference if they are from different background (country/city) etc."
   ]
  },
  {
   "cell_type": "markdown",
   "metadata": {
    "application/vnd.databricks.v1+cell": {
     "cellMetadata": {
      "byteLimit": 2048000,
      "rowLimit": 10000
     },
     "inputWidgets": {},
     "nuid": "57ae5ca9-755d-4c25-b999-f823ed8d43bd",
     "showTitle": false,
     "tableResultSettingsMap": {},
     "title": ""
    }
   },
   "source": [
    "# 3.1 Total Orders of Superstore Over Time"
   ]
  },
  {
   "cell_type": "markdown",
   "metadata": {
    "application/vnd.databricks.v1+cell": {
     "cellMetadata": {
      "byteLimit": 2048000,
      "rowLimit": 10000
     },
     "inputWidgets": {},
     "nuid": "4436afc2-e931-4fe0-86c4-ef54ef53f100",
     "showTitle": false,
     "tableResultSettingsMap": {},
     "title": ""
    }
   },
   "source": [
    "Since our Order Date column is in normal date form, to perform a deep dive analysis on customer's time ordering behaviour, it's advised to break them into small pieces such as year, month, and even the day of week it belongs to for easier data insights to get."
   ]
  },
  {
   "cell_type": "code",
   "execution_count": 0,
   "metadata": {
    "application/vnd.databricks.v1+cell": {
     "cellMetadata": {
      "byteLimit": 2048000,
      "rowLimit": 10000
     },
     "inputWidgets": {},
     "nuid": "e23ccd26-3cc4-4ac6-9ff9-a646850d0528",
     "showTitle": false,
     "tableResultSettingsMap": {},
     "title": ""
    }
   },
   "outputs": [],
   "source": [
    "# Changing the data type for date columns\n",
    "timestamp_cols = ['Order Date']\n",
    "for col in timestamp_cols:\n",
    "    df[col] = pd.to_datetime(df[col])\n",
    "    \n",
    "# Extracting attributes for Order date - Year and Month\n",
    "df['order_date_year'] = df['Order Date'].apply(lambda x: x.year)\n",
    "df['order_date_month'] = df['Order Date'].apply(lambda x: x.month)\n",
    "df['order_date_month_name'] = df['Order Date'].apply(lambda x: x.strftime('%b'))\n",
    "df['order_date_year_month'] = df['Order Date'].apply(lambda x: x.strftime('%Y%m'))\n",
    "df['order_date'] = df['Order Date'].apply(lambda x: x.strftime('%Y%m%d'))\n",
    "\n",
    "# Extracting attributes for Order date - Day and Day of Week\n",
    "df['order_date_day'] = df['Order Date'].apply(lambda x: x.day)\n",
    "df['order_date_dayofweek'] = df['Order Date'].apply(lambda x: x.dayofweek)\n",
    "df['order_date_dayofweek_name'] = df['Order Date'].apply(lambda x: x.strftime('%a'))\n",
    "\n",
    "# New Superstore DataFrame after transformations\n",
    "df.head()"
   ]
  },
  {
   "cell_type": "markdown",
   "metadata": {
    "application/vnd.databricks.v1+cell": {
     "cellMetadata": {
      "byteLimit": 2048000,
      "rowLimit": 10000
     },
     "inputWidgets": {},
     "nuid": "b3202b84-4462-465b-82cb-7491893fffa5",
     "showTitle": false,
     "tableResultSettingsMap": {},
     "title": ""
    }
   },
   "source": [
    "Let's plot three graphs to answer following questions:\n",
    "\n",
    "1.Was there any growing trend on Superstore's number of orders?\\\n",
    "2.Throughout the week, which day of week customers ordered the most from Superstore?\\\n",
    "3.Which month customers ordered the most from Superstores?"
   ]
  },
  {
   "cell_type": "code",
   "execution_count": 0,
   "metadata": {
    "application/vnd.databricks.v1+cell": {
     "cellMetadata": {
      "byteLimit": 2048000,
      "rowLimit": 10000
     },
     "inputWidgets": {},
     "nuid": "46e19fd6-9bdf-47b1-ae17-716ecb4245b1",
     "showTitle": false,
     "tableResultSettingsMap": {},
     "title": ""
    }
   },
   "outputs": [],
   "source": [
    "fig = plt.figure(constrained_layout=True, figsize=(13, 10))\n",
    "\n",
    "# Axis definition\n",
    "gs = GridSpec(2, 2, figure=fig)\n",
    "ax1 = fig.add_subplot(gs[0, :])\n",
    "ax2 = fig.add_subplot(gs[1, 0])\n",
    "ax3 = fig.add_subplot(gs[1, 1])\n",
    "\n",
    "# Lineplot - Total Orders of Superstore Over Time \n",
    "sns.lineplot(data=df['order_date_year_month'].value_counts().sort_index(), ax=ax1, \n",
    "             color='darkslateblue', linewidth=2)\n",
    "\n",
    "format_spines(ax1, right_border=False)\n",
    "  \n",
    "for tick in ax1.get_xticklabels():\n",
    "    tick.set_rotation(45)\n",
    "ax1.set_title('Total Orders of Superstore Over Time ', size=14, color='dimgrey')\n",
    "\n",
    "# Barchart - Total Orders by Day of Week\n",
    "single_countplot(df, x='order_date_dayofweek', ax=ax2, order=False, palette='YlGnBu')\n",
    "weekday_label = ['Mon', 'Tue', 'Wed', 'Thu', 'Fri', 'Sat', 'Sun']\n",
    "ax2.set_xticklabels(weekday_label)\n",
    "ax2.set_title('Total Orders by Day of Week', size=14, color='dimgrey', pad=20)\n",
    "\n",
    "# Barchart - Total Orders by Month\n",
    "single_countplot(df, x='order_date_month_name', ax=ax3, order=False)\n",
    "monthname_label = ['Jan', 'Feb', 'Mar', 'Apr', 'May', 'Jun', 'Jul', 'Aug', 'Sep', 'Oct', 'Nov', 'Dec']\n",
    "ax3.set_xticklabels(monthname_label)\n",
    "ax3.set_title('Total Orders by Month', size=14, color='dimgrey', pad=20)\n",
    "\n",
    "plt.tight_layout()\n",
    "plt.show()"
   ]
  },
  {
   "cell_type": "markdown",
   "metadata": {
    "application/vnd.databricks.v1+cell": {
     "cellMetadata": {
      "byteLimit": 2048000,
      "rowLimit": 10000
     },
     "inputWidgets": {},
     "nuid": "0aa7f165-032b-43cd-bd05-21f9adec5ea1",
     "showTitle": false,
     "tableResultSettingsMap": {},
     "title": ""
    }
   },
   "source": [
    "From the graphs above, we can observe that:\n",
    "\n",
    "* Superstore's orders had a growing trend starting from 2014 to 2017, the number of orders were **almost 4 times more in 2017 compared to 2014.**\n",
    "* In each year, there were **two month spikes** whether customer ordered the most, one was **September**, another one was **November**.\n",
    "* **Monday** was the day that customers mainly ordered from the Superstore throughout the week.\n",
    "* **January, May, and September** were three distinct months that customers ordered the most."
   ]
  },
  {
   "cell_type": "markdown",
   "metadata": {
    "application/vnd.databricks.v1+cell": {
     "cellMetadata": {
      "byteLimit": 2048000,
      "rowLimit": 10000
     },
     "inputWidgets": {},
     "nuid": "1e715d6c-a3f7-47a6-8cdd-ee229a3c467f",
     "showTitle": false,
     "tableResultSettingsMap": {},
     "title": ""
    }
   },
   "source": [
    "# 3.2 Total Orders Comparison Between 2014 and 2017 (Jan to Dec)"
   ]
  },
  {
   "cell_type": "code",
   "execution_count": 0,
   "metadata": {
    "application/vnd.databricks.v1+cell": {
     "cellMetadata": {
      "byteLimit": 2048000,
      "rowLimit": 10000
     },
     "inputWidgets": {},
     "nuid": "07621019-a034-471c-9068-6733e6b9483e",
     "showTitle": false,
     "tableResultSettingsMap": {},
     "title": ""
    }
   },
   "outputs": [],
   "source": [
    "# Creating figure\n",
    "fig = plt.figure(constrained_layout=True, figsize=(15, 5))\n",
    "\n",
    "# Axis definition\n",
    "gs = GridSpec(1, 3, figure=fig)\n",
    "ax1 = fig.add_subplot(gs[0, 0])\n",
    "ax2 = fig.add_subplot(gs[0, 1:])\n",
    "\n",
    "# Annotation - Grown on Superstore's orders between 2014 and 2017\n",
    "df_compare = df.query('order_date_year in (2014, 2017) & order_date_month <=12')\n",
    "year_orders = df_compare['order_date_year'].value_counts()\n",
    "growth = int(round(100 * (1 + year_orders[2014] / year_orders[2017]), 0))\n",
    "ax1.text(0.35, 0.73, f'{year_orders[2014]}', fontsize=40, color='mediumseagreen', ha='center')\n",
    "ax1.text(0.35, 0.64, 'Number of orders in 2014\\nbetween January and December', fontsize=10, ha='center')\n",
    "ax1.text(0.35, 0.40, f'{year_orders[2017]}', fontsize=60, color='darkslateblue', ha='center')\n",
    "ax1.text(0.35, 0.31, 'Number of orders in 2017\\nbetween January and December', fontsize=10, ha='center')\n",
    "signal = '+' if growth > 0 else '-'\n",
    "ax1.text(0.35, 0.20, f'{signal}{growth}%', fontsize=15, ha='center', color='white', style='italic', weight='bold',\n",
    "         bbox=dict(facecolor='navy', alpha=0.5, pad=10, boxstyle='round, pad=.7'))\n",
    "ax1.axis('off')\n",
    "\n",
    "# Bar chart - Comparison between monthly sales between 2014 and 2017\n",
    "single_countplot(df_compare, x='order_date_month', hue='order_date_year', ax=ax2, order=False,\n",
    "                 palette='YlGnBu')\n",
    "month_label = ['Jan', 'Feb', 'Mar', 'Apr', 'May', 'Jun', 'Jul', 'Aug', 'Sep', 'Oct', 'Nov', 'Dec']\n",
    "ax2.set_xticklabels(month_label)\n",
    "ax2.set_title('Total Orders Comparison Between 2014 and 2017 (January to December)', size=12, color='dimgrey', pad=20)\n",
    "plt.legend(loc='lower right')\n",
    "plt.show()"
   ]
  },
  {
   "cell_type": "markdown",
   "metadata": {
    "application/vnd.databricks.v1+cell": {
     "cellMetadata": {
      "byteLimit": 2048000,
      "rowLimit": 10000
     },
     "inputWidgets": {},
     "nuid": "5860910a-ee3f-4ac1-8893-ad18cee260d9",
     "showTitle": false,
     "tableResultSettingsMap": {},
     "title": ""
    }
   },
   "source": [
    "From the graph above, we can observe that:\n",
    "\n",
    "* The total orders of 2017 has grown **over 160%** from 2014's 1991 orders to 2017's 3312 orders.\n",
    "* **September and December** were the months with the **largest growth (3.6% & 3.5%)** compared with other months. It's advised to check which products/customers contributed to this growth in these two months."
   ]
  },
  {
   "cell_type": "markdown",
   "metadata": {
    "application/vnd.databricks.v1+cell": {
     "cellMetadata": {
      "byteLimit": 2048000,
      "rowLimit": 10000
     },
     "inputWidgets": {},
     "nuid": "3c93dfa7-9f8b-41b6-a779-76cafeabb433",
     "showTitle": false,
     "tableResultSettingsMap": {},
     "title": ""
    }
   },
   "source": [
    "# 3.3 Main Segment of Superstore's Customer"
   ]
  },
  {
   "cell_type": "code",
   "execution_count": 0,
   "metadata": {
    "application/vnd.databricks.v1+cell": {
     "cellMetadata": {
      "byteLimit": 2048000,
      "rowLimit": 10000
     },
     "inputWidgets": {},
     "nuid": "07472364-ed9a-484c-b7fe-20f582689524",
     "showTitle": false,
     "tableResultSettingsMap": {},
     "title": ""
    }
   },
   "outputs": [],
   "source": [
    "def donut_plot(df, col, ax, label_names=None, text='', colors=['crimson', 'navy'], circle_radius=0.8,\n",
    "            title=f'Gráfico de Rosca', flag_ruido=0):\n",
    "    values = df[col].value_counts().values\n",
    "    if label_names is None:\n",
    "        label_names = df[col].value_counts().index\n",
    "\n",
    "    if flag_ruido > 0:\n",
    "        values = values[:-flag_ruido]\n",
    "        label_names = label_names[:-flag_ruido]\n",
    "\n",
    "    center_circle = plt.Circle((0, 0), circle_radius, color='white')\n",
    "    ax.pie(values, labels=label_names, colors=colors, autopct=make_autopct(values))\n",
    "    ax.add_artist(center_circle)\n",
    "\n",
    "    kwargs = dict(size=20, fontweight='bold', va='center')\n",
    "    ax.text(0, 0, text, ha='center', **kwargs)\n",
    "    ax.set_title(title, size=14, color='dimgrey')"
   ]
  },
  {
   "cell_type": "code",
   "execution_count": 0,
   "metadata": {
    "application/vnd.databricks.v1+cell": {
     "cellMetadata": {
      "byteLimit": 2048000,
      "rowLimit": 10000
     },
     "inputWidgets": {},
     "nuid": "5b962cdc-c1db-440e-860a-20a37b10c4a8",
     "showTitle": false,
     "tableResultSettingsMap": {},
     "title": ""
    }
   },
   "outputs": [],
   "source": [
    "# Building a figure\n",
    "fig = plt.figure(constrained_layout=True, figsize=(20, 9))\n",
    "\n",
    "# Axis definition with GridSpec\n",
    "gs = GridSpec(1, 3, figure=fig)\n",
    "ax = fig.add_subplot(gs[0,0])\n",
    "\n",
    "# Donut Plot - Customer Type by Segment\n",
    "colors = ['darkslateblue', 'cornflowerblue', 'silver']\n",
    "label_names = df['Segment'].value_counts().index\n",
    "donut_plot(df, col='Segment', ax=ax, label_names=label_names, colors=colors)\n",
    "ax.set_title(f'Customer Type by Segment', color='dimgrey', size=18)"
   ]
  },
  {
   "cell_type": "markdown",
   "metadata": {
    "application/vnd.databricks.v1+cell": {
     "cellMetadata": {
      "byteLimit": 2048000,
      "rowLimit": 10000
     },
     "inputWidgets": {},
     "nuid": "8f2b56ef-06eb-4f5e-b0a7-cafb852cfc66",
     "showTitle": false,
     "tableResultSettingsMap": {},
     "title": ""
    }
   },
   "source": [
    "The main segment of **customers** were Consumer with around **52.0%**, only 30.2% were from Corporate segment and 17.8% were from Home Office segment."
   ]
  },
  {
   "cell_type": "markdown",
   "metadata": {
    "application/vnd.databricks.v1+cell": {
     "cellMetadata": {
      "byteLimit": 2048000,
      "rowLimit": 10000
     },
     "inputWidgets": {},
     "nuid": "8b329815-0ef7-4737-9929-e475809cfcf9",
     "showTitle": false,
     "tableResultSettingsMap": {},
     "title": ""
    }
   },
   "source": [
    "Although Consumer was the main segment in overall picture, it's also worth to check on the Sales and Quantity performance of these segments for Superstore owners to have an clear idea which segment should they target more to earn more sales."
   ]
  },
  {
   "cell_type": "markdown",
   "metadata": {
    "application/vnd.databricks.v1+cell": {
     "cellMetadata": {
      "byteLimit": 2048000,
      "rowLimit": 10000
     },
     "inputWidgets": {},
     "nuid": "200e5540-5d1d-4612-a572-d8939628e236",
     "showTitle": false,
     "tableResultSettingsMap": {},
     "title": ""
    }
   },
   "source": [
    "# 3.4 Sales and Quantity Performance by Segment"
   ]
  },
  {
   "cell_type": "code",
   "execution_count": 0,
   "metadata": {
    "application/vnd.databricks.v1+cell": {
     "cellMetadata": {
      "byteLimit": 2048000,
      "rowLimit": 10000
     },
     "inputWidgets": {},
     "nuid": "1e06e8c2-3d8e-47b6-ad6d-cc702b5d55bb",
     "showTitle": false,
     "tableResultSettingsMap": {},
     "title": ""
    }
   },
   "outputs": [],
   "source": [
    "# Building a figure\n",
    "fig = plt.figure(constrained_layout=True, figsize=(25, 9))\n",
    "\n",
    "# Axis definition with GridSpec\n",
    "gs = GridSpec(1, 3, figure=fig)\n",
    "ax1 = fig.add_subplot(gs[0,0])\n",
    "ax2 = fig.add_subplot(gs[0,1:2])\n",
    "\n",
    "# Grouping data by Segment with Sales\n",
    "df_segment_sales = df.groupby(by='Segment', as_index=False).sum().loc[:, ['Segment', 'Sales']]\n",
    "df_segment_sales = df_segment_sales.sort_values(by='Sales', ascending=False).reset_index(drop=True)\n",
    "\n",
    "# Most Sales by Segment\n",
    "sns.barplot(y='Segment', x='Sales', data=df_segment_sales, ax=ax1, palette='magma')\n",
    "AnnotateBars(n_dec=0, font_size=10, color='black').horizontal(ax1)\n",
    "format_spines(ax1, right_border=False)\n",
    "ax1.set_title('Most Sales by Segment', size=18, color='dimgrey')\n",
    "ax1.set_ylabel('Segment Type')\n",
    "\n",
    "# Grouping data by Segment with Quantity\n",
    "df_segment_quantity = df.groupby(by='Segment', as_index=False).sum().loc[:, ['Segment', 'Quantity']]\n",
    "\n",
    "# Most Quantity of Item Ordered by Segment\n",
    "sns.barplot(y='Quantity', x='Segment', data=df_segment_quantity, ax=ax2, palette='magma')\n",
    "format_spines(ax2, right_border=False)\n",
    "ax2.set_title('Most Quantity of Item Ordered by Segment', size=18, color='dimgrey')\n",
    "ax2.set_ylabel('Quantity')\n",
    "\n",
    "plt.tight_layout()\n",
    "plt.show()"
   ]
  },
  {
   "cell_type": "markdown",
   "metadata": {
    "application/vnd.databricks.v1+cell": {
     "cellMetadata": {
      "byteLimit": 2048000,
      "rowLimit": 10000
     },
     "inputWidgets": {},
     "nuid": "72c4336e-4757-4937-9c5c-a277e6d4cd27",
     "showTitle": false,
     "tableResultSettingsMap": {},
     "title": ""
    }
   },
   "source": [
    "From the graphs above, we can conclude that:\n",
    "\n",
    "* **Consumer segment** represented the **Most Sales** and they ordered the **Most Quantity** of item across all segments. Therefore, Superstore's owners should further target Consumer segment's customers when setting sales and marketing strategy."
   ]
  },
  {
   "cell_type": "markdown",
   "metadata": {
    "application/vnd.databricks.v1+cell": {
     "cellMetadata": {
      "byteLimit": 2048000,
      "rowLimit": 10000
     },
     "inputWidgets": {},
     "nuid": "8a2c8718-f83f-45e2-97c2-2038e273718c",
     "showTitle": false,
     "tableResultSettingsMap": {},
     "title": ""
    }
   },
   "source": [
    "# 3.5 Total Orders by Region, City and State"
   ]
  },
  {
   "cell_type": "code",
   "execution_count": 0,
   "metadata": {
    "application/vnd.databricks.v1+cell": {
     "cellMetadata": {
      "byteLimit": 2048000,
      "rowLimit": 10000
     },
     "inputWidgets": {},
     "nuid": "392b7d1e-f33f-4a11-bf5b-287133809f91",
     "showTitle": false,
     "tableResultSettingsMap": {},
     "title": ""
    }
   },
   "outputs": [],
   "source": [
    "# Grouping data by Region\n",
    "df_region = df.groupby(by=['order_date_year_month', 'Region'], as_index=False)\n",
    "df_region = df_region.agg({'Order ID': 'count', 'Sales': 'sum'}).sort_values(by='order_date_year_month')\n",
    "df_region.columns = ['order_date_year_month', 'Region', 'Order ID', 'Sales']\n",
    "df_region.reset_index(drop=True, inplace=True)\n",
    "\n",
    "# Grouping data by City (Top 10)\n",
    "df_city_group = df.groupby(by='City', as_index=False).count().loc[:, ['City', 'Order ID']]\n",
    "df_city_group = df_city_group.sort_values(by='Order ID', ascending=False).reset_index(drop=True)\n",
    "df_city_group = df_city_group.iloc[:10, :]"
   ]
  },
  {
   "cell_type": "code",
   "execution_count": 0,
   "metadata": {
    "application/vnd.databricks.v1+cell": {
     "cellMetadata": {
      "byteLimit": 2048000,
      "rowLimit": 10000
     },
     "inputWidgets": {},
     "nuid": "81663845-bf18-41b3-aad9-de6e92929132",
     "showTitle": false,
     "tableResultSettingsMap": {},
     "title": ""
    }
   },
   "outputs": [],
   "source": [
    "# Creating and preparing figure and axis\n",
    "fig = plt.figure(constrained_layout=True, figsize=(30, 10))\n",
    "gs = GridSpec(2, 2, figure=fig)\n",
    "ax1 = fig.add_subplot(gs[0, 0])\n",
    "\n",
    "# Total Orders by Regions Over Time\n",
    "sns.lineplot(x='order_date_year_month', y='Order ID', ax=ax1, data=df_region, hue='Region', \n",
    "             size='Region', style='Region', palette='magma', markers=['o'] * 4)\n",
    "format_spines(ax1, right_border=False)\n",
    "ax1.set_title('Total Orders by Regions Over Time', size=12, color='dimgrey')\n",
    "ax1.set_ylabel('Number of Orders')\n",
    "for tick in ax1.get_xticklabels():\n",
    "    tick.set_rotation(45)"
   ]
  },
  {
   "cell_type": "markdown",
   "metadata": {
    "application/vnd.databricks.v1+cell": {
     "cellMetadata": {
      "byteLimit": 2048000,
      "rowLimit": 10000
     },
     "inputWidgets": {},
     "nuid": "d5c141c9-1f5c-4e49-b7f0-5b394e795e63",
     "showTitle": false,
     "tableResultSettingsMap": {},
     "title": ""
    }
   },
   "source": [
    "From the graph above, we can observe that:\n",
    "\n",
    "* **West region** represented the **Most Orders** over time from 2014 to 2017. "
   ]
  },
  {
   "cell_type": "code",
   "execution_count": 0,
   "metadata": {
    "application/vnd.databricks.v1+cell": {
     "cellMetadata": {
      "byteLimit": 2048000,
      "rowLimit": 10000
     },
     "inputWidgets": {},
     "nuid": "7649fcbc-106a-482b-b814-d3e0ff07e5cd",
     "showTitle": false,
     "tableResultSettingsMap": {},
     "title": ""
    }
   },
   "outputs": [],
   "source": [
    "# Creating and preparing figure and axis\n",
    "fig = plt.figure(constrained_layout=True, figsize=(15, 10))\n",
    "gs = GridSpec(1, 2, figure=fig)\n",
    "ax2 = fig.add_subplot(gs[0, 0])\n",
    "ax3 = fig.add_subplot(gs[0,1:2])\n",
    "\n",
    "# Top 10 US Cities with the Most Orders\n",
    "sns.barplot(y='City', x='Order ID', data=df_city_group, ax=ax2, palette='magma')\n",
    "AnnotateBars(n_dec=0, font_size=10, color='black').horizontal(ax2)\n",
    "format_spines(ax2, right_border=False)\n",
    "ax2.set_title('Top 10 US Cities with the Most Orders', size=12, color='dimgrey')\n",
    "ax2.set_ylabel('')\n",
    "ax2.set_xlabel('Number of Orders')\n",
    "\n",
    "# Total orders by state\n",
    "single_countplot(y='State', ax=ax3, df=df, palette='viridis')\n",
    "ax3.set_title('Total Orders by State', size=12, color='dimgrey')\n",
    "ax3.set_ylabel('')\n",
    "ax3.set_xlabel('Number of Orders')\n",
    "\n",
    "plt.show()"
   ]
  },
  {
   "cell_type": "markdown",
   "metadata": {
    "application/vnd.databricks.v1+cell": {
     "cellMetadata": {
      "byteLimit": 2048000,
      "rowLimit": 10000
     },
     "inputWidgets": {},
     "nuid": "b1c782fc-08e7-4029-8cf5-1746c3119a45",
     "showTitle": false,
     "tableResultSettingsMap": {},
     "title": ""
    }
   },
   "source": [
    "From the graphs above, we can observe that:\n",
    "\n",
    "* The Top 3 Cities of Most Orders were: **New York City, Los Angeles, and Philadelphia**.\n",
    "* The Top 3 States of Mos Orders were: **California, New York, and Texas**."
   ]
  },
  {
   "cell_type": "markdown",
   "metadata": {
    "application/vnd.databricks.v1+cell": {
     "cellMetadata": {
      "byteLimit": 2048000,
      "rowLimit": 10000
     },
     "inputWidgets": {},
     "nuid": "5b91f2ea-53d9-4769-90c9-7bf84b871bc3",
     "showTitle": false,
     "tableResultSettingsMap": {},
     "title": ""
    }
   },
   "source": [
    "# 3.6 Main Category of Product Ordered"
   ]
  },
  {
   "cell_type": "code",
   "execution_count": 0,
   "metadata": {
    "application/vnd.databricks.v1+cell": {
     "cellMetadata": {
      "byteLimit": 2048000,
      "rowLimit": 10000
     },
     "inputWidgets": {},
     "nuid": "5219318d-1f4a-44e4-8b5a-e9e649d94f54",
     "showTitle": false,
     "tableResultSettingsMap": {},
     "title": ""
    }
   },
   "outputs": [],
   "source": [
    "# Building a figure\n",
    "fig = plt.figure(constrained_layout=True, figsize=(20, 9))\n",
    "\n",
    "# Axis definition with GridSpec\n",
    "gs = GridSpec(1, 3, figure=fig)\n",
    "ax = fig.add_subplot(gs[0,0])\n",
    "\n",
    "# Donut Plot - Customer Type by Segment\n",
    "colors = ['darkslateblue', 'cornflowerblue', 'silver']\n",
    "label_names = df['Category'].value_counts().index\n",
    "donut_plot(df, col='Category', ax=ax, label_names=label_names, colors=colors)\n",
    "ax.set_title(f'Category of Product Ordered', color='dimgrey', size=18)"
   ]
  },
  {
   "cell_type": "markdown",
   "metadata": {
    "application/vnd.databricks.v1+cell": {
     "cellMetadata": {
      "byteLimit": 2048000,
      "rowLimit": 10000
     },
     "inputWidgets": {},
     "nuid": "507e981c-d3b8-47f4-a5c4-e249c0d0227f",
     "showTitle": false,
     "tableResultSettingsMap": {},
     "title": ""
    }
   },
   "source": [
    "The main category of product ordered were **Office Supplies** with around **60.3%**, only 21.2% were Furniture and 18.5% were Technology."
   ]
  },
  {
   "cell_type": "markdown",
   "metadata": {
    "application/vnd.databricks.v1+cell": {
     "cellMetadata": {
      "byteLimit": 2048000,
      "rowLimit": 10000
     },
     "inputWidgets": {},
     "nuid": "221de87c-1539-455e-b648-40c66a488308",
     "showTitle": false,
     "tableResultSettingsMap": {},
     "title": ""
    }
   },
   "source": [
    "# 3.7 Top 10 Products Ordered in Superstores"
   ]
  },
  {
   "cell_type": "code",
   "execution_count": 0,
   "metadata": {
    "application/vnd.databricks.v1+cell": {
     "cellMetadata": {
      "byteLimit": 2048000,
      "rowLimit": 10000
     },
     "inputWidgets": {},
     "nuid": "2443e0d7-d77c-463e-b84a-1ff41646efb9",
     "showTitle": false,
     "tableResultSettingsMap": {},
     "title": ""
    }
   },
   "outputs": [],
   "source": [
    "# Top 10 Products Ordered in Superstores\n",
    "plot_countplot(df, col='Product Name', top=10, orient='h', order=True, figsize=(17, 10), palette='viridis',\n",
    "               title='Top 10 Products Ordered in Superstores', size_title=18)\n",
    "plt.yticks(fontsize=(18))\n",
    "plt.show()"
   ]
  },
  {
   "cell_type": "markdown",
   "metadata": {
    "application/vnd.databricks.v1+cell": {
     "cellMetadata": {
      "byteLimit": 2048000,
      "rowLimit": 10000
     },
     "inputWidgets": {},
     "nuid": "f8eedf91-3d70-41e5-bbd1-3a2bae6a253b",
     "showTitle": false,
     "tableResultSettingsMap": {},
     "title": ""
    }
   },
   "source": [
    "From the graphs above, we can observe that:\n",
    "\n",
    "* The Top 3 Products were: **Staple envelope, Easy-staple paper, and Staples**.\n",
    "* Out of the Top 10 Products, it seems that most customers liked to order **Staples related products** from Superstores."
   ]
  },
  {
   "cell_type": "markdown",
   "metadata": {
    "application/vnd.databricks.v1+cell": {
     "cellMetadata": {
      "byteLimit": 2048000,
      "rowLimit": 10000
     },
     "inputWidgets": {},
     "nuid": "b7722dbd-b518-4e89-a9af-c04eda08f4b5",
     "showTitle": false,
     "tableResultSettingsMap": {},
     "title": ""
    }
   },
   "source": [
    "# 4. Conclusion of the EDA"
   ]
  },
  {
   "cell_type": "markdown",
   "metadata": {
    "application/vnd.databricks.v1+cell": {
     "cellMetadata": {
      "byteLimit": 2048000,
      "rowLimit": 10000
     },
     "inputWidgets": {},
     "nuid": "767cca6d-76e5-4cf1-87b7-04188a6cf07d",
     "showTitle": false,
     "tableResultSettingsMap": {},
     "title": ""
    }
   },
   "source": [
    "To conclude, if you are the Superstores owner who is planning to grow the store sales and get a better understanding on the customer behaviour to set up your own sales and marketing strategy, I suggest you should target **Consumer segment customer** as they represented the most sales & quantity of items ordered across all segments. According to the EDA, you should be focusing on selling **Staples related products** as most customers ordered these from Superstores. Regarding the marketing and promotion time period, I suggest you should only spend money on ads in **January, May and September** as we observed these months were the Months with Most Orders. If you want the exact Day of Week, then you should **put ads on Monday** as we observed Monday had the most orders, this will be more effective because your marketing promotion message shows at the perfect time to attract your new customers. From a geographical point of view, you should target more on **US West Region**, for Cities, put more ads in **New York City, Los Angeles, and Philadelphia** while for States, put more marketing promotion in **California, New York, and Texas**."
   ]
  }
 ],
 "metadata": {
  "application/vnd.databricks.v1+notebook": {
   "computePreferences": null,
   "dashboards": [],
   "environmentMetadata": null,
   "inputWidgetPreferences": null,
   "language": "python",
   "notebookMetadata": {
    "pythonIndentUnit": 4
   },
   "notebookName": "Retail Store, Customer Behavior Analysis",
   "widgets": {}
  },
  "kernelspec": {
   "display_name": "Python 3 (ipykernel)",
   "language": "python",
   "name": "python3"
  },
  "language_info": {
   "name": "python"
  }
 },
 "nbformat": 4,
 "nbformat_minor": 0
}
